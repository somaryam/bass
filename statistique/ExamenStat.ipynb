{
 "cells": [
  {
   "cell_type": "code",
   "execution_count": 16,
   "id": "6b08c7f2-a046-4a86-aca6-483efbfd0d75",
   "metadata": {},
   "outputs": [],
   "source": [
    "import pandas as pd"
   ]
  },
  {
   "cell_type": "code",
   "execution_count": 17,
   "id": "cf156ac2",
   "metadata": {},
   "outputs": [
    {
     "name": "stdout",
     "output_type": "stream",
     "text": [
      "Noms des différentes colonnes :\n",
      "Index(['pclass', 'survived', 'name', 'sex', 'age', 'sibsp', 'parch', 'ticket',\n",
      "       'fare', 'cabin', 'embarked', 'boat', 'body', 'home.dest'],\n",
      "      dtype='object')\n"
     ]
    }
   ],
   "source": [
    "titanic_data = pd.read_excel(\"titanic.xls\")\n",
    "print(\"Noms des différentes colonnes :\")\n",
    "print(titanic_data.columns)\n"
   ]
  },
  {
   "cell_type": "code",
   "execution_count": 15,
   "id": "ebcb4063",
   "metadata": {},
   "outputs": [
    {
     "name": "stdout",
     "output_type": "stream",
     "text": [
      "\n",
      "Âge moyen des passagers du Titanic : 29.8811345124283\n",
      "Âge moyen des passagères du Titanic : 28.6870706185567\n",
      "Âge moyen des passagers masculins du Titanic : 30.5852329787234\n",
      "\n",
      "Écart type de l'âge des passagers du Titanic : 14.413499699923602\n",
      "Écart type de l'âge des passagères du Titanic : 14.576995176929644\n",
      "Écart type de l'âge des passagers masculins du Titanic : 14.280571030002415\n"
     ]
    }
   ],
   "source": [
    "# Calculer l’âge moyen des passagers du titanic\n",
    "age_moyen_total = titanic_data['age'].mean()\n",
    "print(\"\\nÂge moyen des passagers du Titanic :\", age_moyen_total)\n",
    "\n",
    "# Calculer l’âge moyen des passagers féminins\n",
    "age_moyen_femmes = titanic_data[titanic_data['sex'] == 'female']['age'].mean()\n",
    "print(\"Âge moyen des passagères du Titanic :\", age_moyen_femmes)\n",
    "\n",
    "# Calculer l’âge moyen des passagers masculins\n",
    "age_moyen_hommes = titanic_data[titanic_data['sex'] == 'male']['age'].mean()\n",
    "print(\"Âge moyen des passagers masculins du Titanic :\", age_moyen_hommes)\n",
    "\n",
    "# Calculer l’écart type de l’âge des passagers\n",
    "ecart_type_total = titanic_data['age'].std()\n",
    "print(\"\\nÉcart type de l'âge des passagers du Titanic :\", ecart_type_total)\n",
    "\n",
    "# Calculer l’écart type de l’âge des passagers féminins\n",
    "ecart_type_femmes = titanic_data[titanic_data['sex'] == 'female']['age'].std()\n",
    "print(\"Écart type de l'âge des passagères du Titanic :\", ecart_type_femmes)\n",
    "\n",
    "# Calculer l’écart type de l’âge des passagers masculins\n",
    "ecart_type_hommes = titanic_data[titanic_data['sex'] == 'male']['age'].std()\n",
    "print(\"Écart type de l'âge des passagers masculins du Titanic :\", ecart_type_hommes)\n"
   ]
  },
  {
   "cell_type": "code",
   "execution_count": 18,
   "id": "d6dd6549",
   "metadata": {},
   "outputs": [
    {
     "name": "stdout",
     "output_type": "stream",
     "text": [
      "\n",
      "Nombre de passagers âgés de moins de 20 ans : 225\n",
      "Nombre de passagers âgés de plus de 60 ans : 33\n"
     ]
    }
   ],
   "source": [
    "# Combien de personnes sont âgées de moins de 20 ans\n",
    "nb_moins_20 = titanic_data[titanic_data['age'] < 20]['name'].count()\n",
    "print(\"\\nNombre de passagers âgés de moins de 20 ans :\", nb_moins_20)\n",
    "\n",
    "# Combien de personnes sont âgées de plus de 60 ans\n",
    "nb_plus_60 = titanic_data[titanic_data['age'] > 60]['name'].count()\n",
    "print(\"Nombre de passagers âgés de plus de 60 ans :\", nb_plus_60)"
   ]
  },
  {
   "cell_type": "code",
   "execution_count": 19,
   "id": "d07d598c",
   "metadata": {},
   "outputs": [
    {
     "name": "stdout",
     "output_type": "stream",
     "text": [
      "\n",
      "Nom du passager avec l'âge le plus proche de la moyenne : Allison, Mr. Hudson Joshua Creighton\n",
      "Nom du passager avec l'âge le plus proche de la moyenne + 2xSTD : Brown, Mrs. John Murray (Caroline Lane Lamson)\n"
     ]
    }
   ],
   "source": [
    "# Trouver le nom du passager qui a l’âge le plus proche de la moyenne\n",
    "age_proche_moyenne = titanic_data.loc[(titanic_data['age'] - age_moyen_total).abs().idxmin()]['name']\n",
    "print(\"\\nNom du passager avec l'âge le plus proche de la moyenne :\", age_proche_moyenne)\n",
    "\n",
    "# Trouver le nom du passager qui a l’âge le plus proche de la moyenne + 2xSTD\n",
    "age_proche_moyenne_2xSTD = titanic_data.loc[(titanic_data['age'] - (age_moyen_total + 2 * ecart_type_total)).abs().idxmin()]['name']\n",
    "print(\"Nom du passager avec l'âge le plus proche de la moyenne + 2xSTD :\", age_proche_moyenne_2xSTD)"
   ]
  }
 ],
 "metadata": {
  "kernelspec": {
   "display_name": "Python 3 (ipykernel)",
   "language": "python",
   "name": "python3"
  },
  "language_info": {
   "codemirror_mode": {
    "name": "ipython",
    "version": 3
   },
   "file_extension": ".py",
   "mimetype": "text/x-python",
   "name": "python",
   "nbconvert_exporter": "python",
   "pygments_lexer": "ipython3",
   "version": "3.11.4"
  }
 },
 "nbformat": 4,
 "nbformat_minor": 5
}
